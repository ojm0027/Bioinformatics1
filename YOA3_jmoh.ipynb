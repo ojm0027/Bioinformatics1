{
 "cells": [
  {
   "cell_type": "markdown",
   "id": "cfeb786b",
   "metadata": {},
   "source": [
    "#### 웹에서 데이터 다운 받은 후에 전처리 진행   \n",
    "- 파일 용량이 커서 linux 이용해서 전처리 진행 후 파일 불러옴"
   ]
  },
  {
   "cell_type": "markdown",
   "id": "25db6353",
   "metadata": {},
   "source": [
    "gzcat /Users/jeongmin/Downloads/goa_uniprot_all.gaf.gz | grep -v '^!' | grep 'GO:' | grep 'taxon:10090' > /Users/jeongmin/Downloads/goa_mouse_filtered.gaf\n",
    "\n",
    "pv goa_uniprot_all.gaf.gz | gzip -d | grep -v '^!' | grep 'GO:' | grep 'taxon:10090' > goa_mouse_filtered.gaf\n",
    "\n",
    "pv /Users/jeongmin/Downloads/goa_uniprot_all.gaf.gz | gzip -d | grep -v '^!' | grep 'GO:' | grep 'taxon:10090' > /Users/jeongmin/Downloads/goa_mouse_filtered.gaf\n",
    "\n",
    "\n",
    "gzcat /Users/jeongmin/Downloads/idmapping.dat.gz | grep -P '\\tEnsembl\\t' | head\n",
    "\n",
    "gzcat /Users/jeongmin/Downloads/idmapping.dat.gz | grep '\\tEnsembl\\tENSMUSG' > /Users/jeongmin/Downloads/ensembl_mouse_mapping.tsv\n",
    "\n",
    "gzcat /path/to/MOUSE_10090_idmapping.dat.gz | grep '\tEnsembl\tENSMUSG' > ensembl_mouse_mapping.tsv"
   ]
  },
  {
   "cell_type": "markdown",
   "id": "6565e817",
   "metadata": {},
   "source": [
    "#### 이 코드는 colab에서 Guided mission 1을 다시 수행한 것"
   ]
  },
  {
   "cell_type": "code",
   "execution_count": null,
   "id": "84343ca8",
   "metadata": {},
   "outputs": [],
   "source": [
    "import pandas as pd\n",
    "import numpy as np\n",
    "import matplotlib.pyplot as plt\n",
    "import seaborn as sns\n",
    "import io\n",
    "\n",
    "# === df_filtered.csv ===\n",
    "df = pd.read_csv('read-counts.txt', sep='\\t', comment='#', index_col=0) # /content/drive/MyDrive/binfo1-work\n",
    "\n",
    "# 컬럼 이름 간소화 및 정수로 변환\n",
    "df.rename(columns={\n",
    "    'CLIP-35L33G.bam': 'CLIP_35L33G',\n",
    "    'RNA-control.bam': 'RNA_control', # 이 컬럼을 사용하거나, 아래 RNA_siLuc을 사용 (논문상 RNA_siLuc이 RPF와 함께 사용)\n",
    "    'RNA-siLin28a.bam': 'RNA_siLin28a',\n",
    "    'RNA-siLuc.bam': 'RNA_siLuc',\n",
    "    'RPF-siLin28a.bam': 'RPF_siLin28a',\n",
    "    'RPF-siLuc.bam': 'RPF_siLuc'\n",
    "}, inplace=True)\n",
    "\n",
    "# 필요한 컬럼만 정수형으로 변환 (raw count이므로)\n",
    "count_cols = ['CLIP_35L33G', 'RNA_control', 'RNA_siLin28a', 'RNA_siLuc', 'RPF_siLin28a', 'RPF_siLuc']\n",
    "for col in count_cols:\n",
    "    df[col] = pd.to_numeric(df[col], errors='coerce').fillna(0).astype(int)\n",
    "\n",
    "# --- 1. 라이브러리 전체 리드 수 계산 (시뮬레이션) ---\n",
    "# 경고: 이 값들은 제공된 샘플 데이터만을 기준으로 계산되었으며, 실제 라이브러리의 전체 리드 수와는 다릅니다.\n",
    "# 실제 분석에서는 각 BAM 파일에서 얻은 총 리드 수를 사용해야 합니다.\n",
    "total_clip_35l33g_reads = df['CLIP_35L33G'].sum()\n",
    "total_rna_siluc_reads = df['RNA_siLuc'].sum()\n",
    "total_rna_silin28a_reads = df['RNA_siLin28a'].sum()\n",
    "total_rpf_siluc_reads = df['RPF_siLuc'].sum()\n",
    "total_rpf_silin28a_reads = df['RPF_siLin28a'].sum()\n",
    "\n",
    "# log2 변환 시 0이 되는 것을 피하기 위한 작은 상수 (pseudocount 또는 epsilon)\n",
    "epsilon = 1e-9 # 논문에서 명시적으로 +1을 사용했으므로, 여기서 +1 대신 epsilon을 사용하지 않고, +1만 적용\n",
    "\n",
    "# --- 2. 데이터 필터링 ---\n",
    "# RNA-seq (siLuc) 리드 수가 30 미만인 유전자 제외 [6]\n",
    "# RPF (siLuc) 리드 수가 80 미만인 유전자 제외 [5]\n",
    "df_filtered = df[(df['RNA_siLuc'] >= 30) & (df['RPF_siLuc'] >= 80)].copy()\n",
    "\n",
    "df_filtered['Normalized_CLIP'] = (df_filtered['CLIP_35L33G'] + 1) / (total_clip_35l33g_reads + 1)\n",
    "    df_filtered['Normalized_RNA_siLuc_for_CLIP'] = (df_filtered['RNA_siLuc'] + 1) / (total_rna_siluc_reads + 1)\n",
    "    df_filtered['CLIP_Enrichment'] = np.log2(df_filtered['Normalized_CLIP'] / df_filtered['Normalized_RNA_siLuc_for_CLIP'])\n",
    "\n",
    "    # --- 4. Ribosome Density Change (Y축) 계산 ---\n",
    "    # 각 조건의 번역 효율 (TE_raw = RPF / RNA) 계산\n",
    "    df_filtered['TE_raw_siLin28a'] = (df_filtered['RPF_siLin28a'] + 1) / (df_filtered['RNA_siLin28a'] + 1)\n",
    "    df_filtered['TE_raw_siLuc'] = (df_filtered['RPF_siLuc'] + 1) / (df_filtered['RNA_siLuc'] + 1)\n",
    "\n",
    "    # 전체 라이브러리 스케일 정규화 인자 (Global TE) 계산\n",
    "    global_te_siLin28a = (total_rpf_silin28a_reads + 1) / (total_rna_silin28a_reads + 1)\n",
    "    global_te_siLuc = (total_rpf_siluc_reads + 1) / (total_rna_siluc_reads + 1)\n",
    "\n",
    "    # 정규화된 번역 효율 계산 (TE_norm = TE_raw / Global_TE)\n",
    "    # 0으로 나누는 것을 방지하기 위해 global_te 값에도 1을 더합니다.\n",
    "    df_filtered['TE_norm_siLin28a'] = df_filtered['TE_raw_siLin28a'] / (global_te_siLin28a + epsilon)\n",
    "    df_filtered['TE_norm_siLuc'] = df_filtered['TE_raw_siLuc'] / (global_te_siLuc + epsilon)\n",
    "\n",
    "    # 리보솜 밀도 변화 = log2(TE_norm_siLin28a / TE_norm_siLuc)\n",
    "    # log2(0) 방지를 위해 작은 epsilon을 추가합니다.\n",
    "    df_filtered['Ribosome_Density_Change'] = np.log2((df_filtered['TE_norm_siLin28a'] + epsilon) / (df_filtered['TE_norm_siLuc'] + epsilon))"
   ]
  },
  {
   "cell_type": "markdown",
   "id": "6dae8a12",
   "metadata": {},
   "source": [
    "여기부터 YOA - project  \n",
    "아래의 코드는 local에서 터미널 python 기반으로 작성"
   ]
  },
  {
   "cell_type": "code",
   "execution_count": null,
   "id": "6b06e40a",
   "metadata": {},
   "outputs": [],
   "source": [
    "import pandas as pd\n",
    "import numpy as np\n",
    "import matplotlib.pyplot as plt\n",
    "from collections import defaultdict\n",
    "from scipy.stats import mannwhitneyu\n",
    "import statsmodels.stats.multitest as smm\n",
    "from matplotlib.colors import LogNorm\n",
    "from goatools.obo_parser import GODag"
   ]
  },
  {
   "cell_type": "code",
   "execution_count": null,
   "id": "bf65e941",
   "metadata": {},
   "outputs": [],
   "source": [
    "# === 경로 설정 ===\n",
    "df_path = \"/Users/jeongmin/Downloads/df_filtered.csv\"\n",
    "idmap_path = \"/Users/jeongmin/Downloads/ensembl_mouse_mapping.tsv\"\n",
    "goa_path = \"/Users/jeongmin/Downloads/goa_mouse_filtered.gaf\"\n",
    "obo_path = \"/Users/jeongmin/Downloads/go-basic.obo\""
   ]
  },
  {
   "cell_type": "code",
   "execution_count": null,
   "id": "38bc9123",
   "metadata": {},
   "outputs": [],
   "source": [
    "# === Step 1: 데이터 불러오기 ===\n",
    "df_filtered = pd.read_csv(df_path, index_col=0)\n",
    "df_filtered.index = df_filtered.index.str.split('.').str[0]\n",
    "gene_rdc = df_filtered[\"Ribosome_Density_Change\"].dropna()\n",
    "gene_clip = df_filtered[\"CLIP_Enrichment\"].dropna()"
   ]
  },
  {
   "cell_type": "code",
   "execution_count": null,
   "id": "61bcee9d",
   "metadata": {},
   "outputs": [],
   "source": [
    "# === Step 2: Ensembl → UniProt 매핑 ===\n",
    "ensembl_to_uniprot = {}\n",
    "with open(idmap_path, \"rt\") as f:\n",
    "    for line in f:\n",
    "        parts = line.strip().split('\\t')\n",
    "        if len(parts) >= 3 and parts[1] == \"Ensembl\":\n",
    "            ens_id = parts[2].split('.')[0]\n",
    "            if ens_id in df_filtered.index:\n",
    "                ensembl_to_uniprot[ens_id] = parts[0]"
   ]
  },
  {
   "cell_type": "code",
   "execution_count": null,
   "id": "c569926a",
   "metadata": {},
   "outputs": [],
   "source": [
    "print(f\"총 매핑된 Ensembl ID 수: {len(ensembl_to_uniprot)}\")"
   ]
  },
  {
   "cell_type": "code",
   "execution_count": null,
   "id": "024c9d83",
   "metadata": {},
   "outputs": [],
   "source": [
    "# 총 매핑된 Ensembl ID 수: 7946"
   ]
  },
  {
   "cell_type": "code",
   "execution_count": null,
   "id": "c6cbde54",
   "metadata": {},
   "outputs": [],
   "source": [
    "# 저장 (옵션)\n",
    "df_map = pd.DataFrame(list(ensembl_to_uniprot.items()), columns=[\"Ensembl_ID\", \"UniProt_ID\"])\n",
    "df_map.to_csv(\"/Users/jeongmin/Downloads/ensembl_to_uniprot.csv\", index=False)"
   ]
  },
  {
   "cell_type": "code",
   "execution_count": null,
   "id": "f8f2350c",
   "metadata": {},
   "outputs": [],
   "source": [
    "# === Step 3: UniProt → GO term 매핑 ===\n",
    "uniprot_to_go = defaultdict(set)\n",
    "\n",
    "with open(goa_path, \"rt\") as f:\n",
    "    for line in f:\n",
    "        if line.startswith(\"!\"):\n",
    "            continue\n",
    "        parts = line.strip().split('\\t')\n",
    "        if len(parts) >= 5:\n",
    "            uniprot_to_go[parts[1]].add(parts[4])"
   ]
  },
  {
   "cell_type": "code",
   "execution_count": null,
   "id": "2aee6825",
   "metadata": {},
   "outputs": [],
   "source": [
    "# 저장 (옵션)\n",
    "rows = [\n",
    "    {\"UniProt_ID\": uid, \"GO_Terms\": \";\".join(sorted(go_set))}\n",
    "    for uid, go_set in uniprot_to_go.items()\n",
    "]\n",
    "\n",
    "df_go_map = pd.DataFrame(rows)\n",
    "df_go_map.to_csv(\"/Users/jeongmin/Downloads/uniprot_to_go.csv\", index=False)"
   ]
  },
  {
   "cell_type": "code",
   "execution_count": null,
   "id": "95969150",
   "metadata": {},
   "outputs": [],
   "source": [
    "# === Step 4: GO term → Ensembl ID 매핑\n",
    "go_to_genes = defaultdict(set)\n",
    "\n",
    "for ens_id in df_filtered.index:\n",
    "    uniprot_id = ensembl_to_uniprot.get(ens_id)\n",
    "    if uniprot_id:\n",
    "        for go_term in uniprot_to_go.get(uniprot_id, []):\n",
    "            go_to_genes[go_term].add(ens_id)"
   ]
  },
  {
   "cell_type": "code",
   "execution_count": null,
   "id": "4564129b",
   "metadata": {},
   "outputs": [],
   "source": [
    "print(f\"GO term 개수: {len(go_to_genes)}\")"
   ]
  },
  {
   "cell_type": "code",
   "execution_count": null,
   "id": "4f06310b",
   "metadata": {},
   "outputs": [],
   "source": [
    "# GO term 개수: 9079"
   ]
  },
  {
   "cell_type": "code",
   "execution_count": null,
   "id": "19c67401",
   "metadata": {},
   "outputs": [],
   "source": [
    "for i, (go, genes) in enumerate(go_to_genes.items()):\n",
    "    print(f\"{go} → {len(genes)} genes\")\n",
    "    if i >= 9:\n",
    "        break  # 상위 10개만 보기"
   ]
  },
  {
   "cell_type": "code",
   "execution_count": null,
   "id": "ba65f9e9",
   "metadata": {},
   "outputs": [],
   "source": [
    "from scipy.stats import mannwhitneyu\n",
    "import statsmodels.stats.multitest as smm\n",
    "import matplotlib.pyplot as plt\n",
    "import numpy as np\n",
    "import pandas as pd"
   ]
  },
  {
   "cell_type": "code",
   "execution_count": null,
   "id": "0866a68e",
   "metadata": {},
   "outputs": [],
   "source": [
    "# === Step 5: Mann-Whitney U Test\n",
    "results = []\n",
    "clip_results = []\n",
    "for go_term, genes in go_to_genes.items():\n",
    "    if len(genes) < 5:\n",
    "        continue\n",
    "    rdc_in = gene_rdc.loc[gene_rdc.index.isin(genes)]\n",
    "    rdc_out = gene_rdc.loc[~gene_rdc.index.isin(genes)]\n",
    "    clip_in = gene_clip.loc[gene_clip.index.isin(genes)]\n",
    "    clip_out = gene_clip.loc[~gene_clip.index.isin(genes)]\n",
    "    if len(rdc_in) > 0 and len(rdc_out) > 0:\n",
    "        _, pval_rdc = mannwhitneyu(rdc_in, rdc_out, alternative=\"two-sided\", method='asymptotic')\n",
    "        results.append((go_term, len(genes), rdc_in.mean(), pval_rdc))\n",
    "    if len(clip_in) > 0 and len(clip_out) > 0:\n",
    "        _, pval_clip = mannwhitneyu(clip_in, clip_out, alternative=\"two-sided\", method='asymptotic')\n",
    "        clip_results.append((go_term, pval_clip))"
   ]
  },
  {
   "cell_type": "code",
   "execution_count": null,
   "id": "d796a360",
   "metadata": {},
   "outputs": [],
   "source": [
    "for row in results[:5]:\n",
    "    print(f\"GO: {row[0]}, N={row[1]}, Mean RDC={row[2]:.3f}, p={row[3]:.4e}\")"
   ]
  },
  {
   "cell_type": "code",
   "execution_count": null,
   "id": "01bfb9e9",
   "metadata": {},
   "outputs": [],
   "source": [
    "# === Step 6: FDR 보정 및 병합\n",
    "results_df = pd.DataFrame(results, columns=[\"GO_term\", \"n_genes\", \"mean_rdc\", \"pval\"])\n",
    "results_df[\"fdr\"] = smm.multipletests(results_df[\"pval\"], method=\"fdr_bh\")[1]\n",
    "clip_df = pd.DataFrame(clip_results, columns=[\"GO_term\", \"clip_pval\"])\n",
    "clip_df[\"clip_fdr\"] = smm.multipletests(clip_df[\"clip_pval\"], method=\"fdr_bh\")[1]\n",
    "results_df = results_df.merge(clip_df, on=\"GO_term\", how=\"left\")"
   ]
  },
  {
   "cell_type": "code",
   "execution_count": null,
   "id": "16777864",
   "metadata": {},
   "outputs": [],
   "source": [
    "results_df.head"
   ]
  },
  {
   "cell_type": "markdown",
   "id": "d7614739",
   "metadata": {},
   "source": [
    "<bound method NDFrame.head of          GO_term  n_genes  mean_rdc  ...           fdr     clip_pval      clip_fdr\n",
    "0     GO:0003676      265 -0.624921  ...  9.154610e-24  1.009489e-02  8.975362e-02\n",
    "1     GO:0005634     1943 -0.448916  ...  1.132890e-60  2.864048e-12  5.969948e-10\n",
    "2     GO:0008270      616 -0.421909  ...  3.467431e-12  2.758326e-01  5.817230e-01\n",
    "3     GO:0006368       15 -0.749462  ...  1.793866e-02  2.920672e-02  1.750537e-01\n",
    "4     GO:0006351       39 -0.371901  ...  4.102666e-01  2.945847e-01  6.037057e-01\n",
    "...          ...      ...       ...  ...           ...           ...           ...\n",
    "1871  GO:0006607        5 -0.577579  ...  3.267266e-01  1.545350e-01  4.303612e-01\n",
    "1872  GO:0045275        6  0.395308  ...  9.125456e-02  5.619788e-03  6.059036e-02\n",
    "1873  GO:0006122        7  0.357409  ...  6.856592e-02  2.772726e-03  3.796813e-02\n",
    "1874  GO:0004693        5 -0.461616  ...  6.038793e-01  2.971295e-01  6.047519e-01\n",
    "1875  GO:0045598        5 -0.426737  ...  9.037637e-01  3.257185e-01  6.317473e-01"
   ]
  },
  {
   "cell_type": "code",
   "execution_count": null,
   "id": "c61f9475",
   "metadata": {},
   "outputs": [],
   "source": [
    "# === CLIP 평균 계산\n",
    "clip_enrichment = {\n",
    "    go_term: df_filtered.loc[df_filtered.index.isin(go_to_genes[go_term]), \"CLIP_Enrichment\"].dropna().mean()\n",
    "    for go_term in results_df[\"GO_term\"]\n",
    "}\n",
    "results_df[\"clip_enrichment\"] = results_df[\"GO_term\"].map(clip_enrichment)"
   ]
  },
  {
   "cell_type": "code",
   "execution_count": null,
   "id": "68708004",
   "metadata": {},
   "outputs": [],
   "source": [
    "# === Step 7: FDR 기준 필터링\n",
    "sig_results = results_df[(results_df[\"fdr\"] < 0.05) & (results_df[\"clip_fdr\"] < 0.05)].copy()"
   ]
  },
  {
   "cell_type": "code",
   "execution_count": null,
   "id": "621b7f23",
   "metadata": {},
   "outputs": [],
   "source": [
    "sig_results.head"
   ]
  },
  {
   "cell_type": "markdown",
   "id": "6ff0d59c",
   "metadata": {},
   "source": [
    "<bound method NDFrame.head of          GO_term  n_genes  mean_rdc          pval           fdr     clip_pval      clip_fdr  clip_enrichment\n",
    "1     GO:0005634     1943 -0.448916  1.811658e-63  1.132890e-60  2.864048e-12  5.969948e-10        -0.793606\n",
    "6     GO:0003677      532 -0.469376  7.019641e-19  7.746381e-17  1.775003e-03  3.027187e-02        -0.780596\n",
    "13    GO:0005654      707 -0.442764  1.960801e-19  2.299040e-17  2.313112e-05  1.113562e-03        -0.801364\n",
    "19    GO:0005783      460  0.200246  4.910549e-65  4.606095e-62  6.577667e-46  6.169852e-43         0.109618\n",
    "27    GO:0005737     1771 -0.422874  3.185813e-41  9.960975e-39  3.404130e-17  1.064358e-14        -0.836202\n",
    "...          ...      ...       ...           ...           ...           ...           ...              ...\n",
    "1589  GO:0015293       23  0.422332  1.091545e-07  3.863657e-06  3.192605e-06  2.139045e-04         0.437023\n",
    "1682  GO:0016125        7  0.461167  8.738155e-04  8.719563e-03  3.931384e-04  1.010312e-02         0.829972\n",
    "1739  GO:0007156       13  0.357391  4.716005e-05  7.899309e-04  4.534547e-05  1.809960e-03         0.625480\n",
    "1796  GO:0006865       16  0.613664  2.035179e-08  8.299991e-07  2.563551e-05  1.202305e-03         0.555117\n",
    "1860  GO:0007160        7  0.612470  2.267674e-04  2.988157e-03  1.572019e-03  2.816384e-02         0.821609\n",
    "\n",
    "[128 rows x 8 columns]>"
   ]
  },
  {
   "cell_type": "code",
   "execution_count": null,
   "id": "cff312fa",
   "metadata": {},
   "outputs": [],
   "source": [
    "print(sig_results.sort_values(\"fdr\").head(5))"
   ]
  },
  {
   "cell_type": "markdown",
   "id": "c76d5935",
   "metadata": {},
   "source": [
    " GO_term  n_genes  mean_rdc  ...            fdr  -log10(FDR)  clip_enrichment\n",
    "90   GO:0016020     1789  0.153882  ...  2.889719e-237   236.539144        -0.128158\n",
    "19   GO:0005783      460  0.200246  ...   4.606095e-62    61.336667         0.109618\n",
    "1    GO:0005634     1943 -0.448916  ...   1.132890e-60    59.945812        -0.793606\n",
    "70   GO:0005789      310  0.266367  ...   7.894996e-55    54.102648         0.166805\n",
    "103  GO:0005886      669  0.042771  ...   6.211669e-39    38.206792        -0.134128"
   ]
  },
  {
   "cell_type": "code",
   "execution_count": null,
   "id": "9ee7a8fd",
   "metadata": {},
   "outputs": [],
   "source": [
    "# === Step 8: GO 이름 매핑 & subset term 제거 \n",
    "go_dag = GODag(obo_path)\n",
    "sig_go_terms = set(sig_results[\"GO_term\"])\n",
    "filtered_go_terms = set()\n",
    "\n",
    "def is_subset_term(go1, go2):\n",
    "    try:\n",
    "        return go1 in go_dag[go2].get_all_children()\n",
    "    except:\n",
    "        return False\n",
    "\n",
    "for go in sig_go_terms:\n",
    "    if not any(is_subset_term(go, other) for other in sig_go_terms if go != other):\n",
    "        filtered_go_terms.add(go)\n",
    "\n",
    "filtered_sig_results = sig_results[sig_results[\"GO_term\"].isin(filtered_go_terms)].copy()\n",
    "filtered_sig_results[\"GO_name\"] = filtered_sig_results[\"GO_term\"].map(lambda go: go_dag[go].name if go in go_dag else go)"
   ]
  },
  {
   "cell_type": "code",
   "execution_count": null,
   "id": "7c779dca",
   "metadata": {},
   "outputs": [],
   "source": [
    "def sci_notation_latex(x):\n",
    "    \"\"\"지수 표기: 1.3×10^{-108} 형태로 반환\"\"\"\n",
    "    base, exp = f\"{x:.1e}\".split(\"e\")\n",
    "    return f\"{base}×10$^{{{int(exp)}}}$\"\n",
    "\n",
    "filtered_sig_results[\"GO_label\"] = filtered_sig_results.apply(\n",
    "    lambda row: (\n",
    "        f\"{row['GO_name']} ({row['n_genes']})\\n\"\n",
    "        f\"C={sci_notation_latex(row['clip_fdr'])}, R={sci_notation_latex(row['fdr'])}\"\n",
    "    ),\n",
    "    axis=1\n",
    ")\n"
   ]
  },
  {
   "cell_type": "code",
   "execution_count": null,
   "id": "68745e5a",
   "metadata": {},
   "outputs": [],
   "source": [
    "filtered_sig_results.head"
   ]
  },
  {
   "cell_type": "markdown",
   "id": "606e7656",
   "metadata": {},
   "source": [
    "<bound method NDFrame.head of          GO_term  ...                                           GO_label\n",
    "0     GO:0005634  ...                nucleus (1943)\\nC=6.0e-10 R=1.1e-60\n",
    "2     GO:0003677  ...             DNA binding (532)\\nC=3.0e-02 R=7.7e-17\n",
    "14    GO:0005654  ...             nucleoplasm (707)\\nC=1.1e-03 R=2.3e-17\n",
    "16    GO:0005783  ...   endoplasmic reticulum (460)\\nC=6.2e-43 R=4.6e-62\n",
    "24    GO:0006281  ...              DNA repair (154)\\nC=4.0e-02 R=2.6e-07\n",
    "...          ...  ...                                                ...\n",
    "1195  GO:0006465  ...  signal peptide processing (6)\\nC=3.0e-02 R=3.9...\n",
    "1263  GO:0007611  ...        learning or memory (8)\\nC=3.7e-02 R=9.2e-03\n",
    "1304  GO:0042552  ...              myelination (15)\\nC=8.4e-03 R=1.7e-02\n",
    "1504  GO:0140326  ...  ATPase-coupled intramembrane lipid transporter...\n",
    "1796  GO:0006865  ...     amino acid transport (16)\\nC=1.2e-03 R=8.3e-07\n",
    "\n",
    "[73 rows x 10 columns]>"
   ]
  },
  {
   "cell_type": "code",
   "execution_count": null,
   "id": "262b2d75",
   "metadata": {},
   "outputs": [],
   "source": [
    "filtered_sig_results.to_csv(\"/Users/jeongmin/Downloads/sig_results_GO_enrichment_filtered.csv\", index=False)"
   ]
  },
  {
   "cell_type": "code",
   "execution_count": null,
   "id": "855f26aa",
   "metadata": {},
   "outputs": [],
   "source": [
    "import pandas as pd\n",
    "import matplotlib.pyplot as plt\n",
    "import numpy as np\n",
    "from matplotlib.colors import LogNorm\n",
    "\n",
    "# === 저장된 파일 불러오기 ===\n",
    "sig_results = pd.read_csv(\"/Users/jeongmin/Downloads/sig_results_GO_enrichment_filtered.csv\")"
   ]
  },
  {
   "cell_type": "code",
   "execution_count": null,
   "id": "faad8b86",
   "metadata": {},
   "outputs": [],
   "source": [
    "# 주석 달고 싶은 GO term 목록 (상위 FDR 낮은 10개 예시)\n",
    "top_labels = filtered_sig_results.nsmallest(10, \"clip_fdr\").copy()\n",
    "top_labels"
   ]
  },
  {
   "cell_type": "markdown",
   "id": "d26e6032",
   "metadata": {},
   "source": [
    "         GO_term  ...                                           GO_label\n",
    "87    GO:0016020  ...  membrane (1789)\\nC=1.3×10$^{-108}$, R=2.9×10$^...\n",
    "16    GO:0005783  ...  endoplasmic reticulum (460)\\nC=6.2×10$^{-43}$,...\n",
    "275   GO:0009986  ...  cell surface (85)\\nC=6.7×10$^{-15}$, R=9.5×10$...\n",
    "26    GO:0005737  ...  cytoplasm (1771)\\nC=1.1×10$^{-14}$, R=1.0×10$^...\n",
    "148   GO:0055085  ...  transmembrane transport (111)\\nC=3.9×10$^{-10}...\n",
    "338   GO:0005576  ...  extracellular region (184)\\nC=5.5×10$^{-10}$, ...\n",
    "0     GO:0005634  ...  nucleus (1943)\\nC=6.0×10$^{-10}$, R=1.1×10$^{-...\n",
    "33    GO:0005794  ...  Golgi apparatus (313)\\nC=1.0×10$^{-9}$, R=1.7×...\n",
    "341   GO:0007155  ...  cell adhesion (79)\\nC=1.7×10$^{-9}$, R=4.7×10$...\n",
    "1016  GO:0005788  ...  endoplasmic reticulum lumen (34)\\nC=6.6×10$^{-..."
   ]
  },
  {
   "cell_type": "code",
   "execution_count": null,
   "id": "bac1a7fd",
   "metadata": {},
   "outputs": [],
   "source": [
    "\n",
    "# 🔧 수동 위치 설정: {GO_term: (dx, dy)} → 주석의 xytext offset\n",
    "arrow_offsets = {\n",
    "    \"GO:0016020\": (-1.1, 0.4),   # membrane\n",
    "    \"GO:0005783\": (1.0, 0.1),    # endoplasmic reticulum\n",
    "    \"GO:0009986\": (0.2, 0.9),    # cell surface\n",
    "    \"GO:0005737\": (0.9, -0.3),  # cytoplasm\n",
    "    \"GO:0055085\": (0.05, 0.55),   # transmembrane transport\n",
    "    \"GO:0005576\": (-0.9, 0.7),   # extracellular region\n",
    "    \"GO:0005634\": (0.9, 0.05),    # nucleus\n",
    "    \"GO:0005794\": (-1.2, 0.1),   # Golgi apparatus\n",
    "    \"GO:0007155\": (0.8, -0.2),    # cell adhesion\n",
    "    \"GO:0005788\": (0.9, 0.3),  # ER lumen\n",
    "}\n",
    "\n",
    "\n",
    "plt.figure(figsize=(12,6))\n",
    "sc = plt.scatter(\n",
    "    filtered_sig_results[\"clip_enrichment\"], filtered_sig_results[\"mean_rdc\"],\n",
    "    s=filtered_sig_results[\"n_genes\"] * 0.9, c=filtered_sig_results[\"clip_fdr\"],\n",
    "    norm=LogNorm(vmin=1e-20, vmax=1), cmap=\"YlOrRd_r\", alpha=0.9, linewidths=0\n",
    ")\n",
    "# ✅ Top label들에만 검은색 테두리 추가\n",
    "plt.scatter(\n",
    "    top_labels[\"clip_enrichment\"], top_labels[\"mean_rdc\"],\n",
    "    s=top_labels[\"n_genes\"] * 0.9,\n",
    "    facecolors='none', edgecolors='black', linewidths=0.4\n",
    ")\n",
    "\n",
    "cb = plt.colorbar(sc)\n",
    "cb.set_label(\"Term-specific enrichment confidence (false discovery rate)\")\n",
    "cb.set_ticks([1e-20, 1e-15, 1e-10, 1e-5, 1e0])\n",
    "cb.set_ticklabels([\"10⁻²⁰\", \"10⁻¹⁵\", \"10⁻¹⁰\", \"10⁻⁵\", \"10⁰\"])\n",
    "cb.ax.invert_yaxis()\n",
    "\n",
    "for _, row in top_labels.iterrows():\n",
    "    dx, dy = arrow_offsets.get(row[\"GO_term\"], (0.5, 0.5))\n",
    "    plt.annotate(\n",
    "        row[\"GO_label\"],\n",
    "        xy=(row[\"clip_enrichment\"], row[\"mean_rdc\"]),\n",
    "        xytext=(row[\"clip_enrichment\"] + dx, row[\"mean_rdc\"] + dy),\n",
    "        fontsize=9,\n",
    "        ha='center',  # 🔹 수평 가운데 정렬\n",
    "        va='center',  # 🔹 수직 가운데 정렬\n",
    "        bbox=dict(boxstyle=\"round,pad=0.3\", edgecolor='dimgrey', facecolor='white'),\n",
    "        arrowprops=dict(arrowstyle=\"->\", color=\"black\", lw=0.8)\n",
    "    )\n",
    "\n",
    "plt.xticks(np.arange(-2, 3, 0.5))\n",
    "plt.xlabel(\"Enrichment level of LIN28A-bound CLIP tags (log₂)\", fontsize=11)\n",
    "plt.ylabel(\"Ribosome density change upon Lin28a knockdown (log₂)\", fontsize=11)\n",
    "plt.title(\"Gene ontology term-enrichment analysis for CLIP and ribosome profiling\", fontsize=14,\n",
    "          loc='left')\n",
    "plt.xlim(-2, 2.5)\n",
    "plt.ylim(-1.0, 1.5)\n",
    "plt.grid(True)\n",
    "plt.tight_layout()\n",
    "plt.savefig(\"/Users/jeongmin/Downloads/GO_CLIP_ribosome_enrichment_FINAL_FILTERED_0612.png\", dpi=300)\n",
    "# plt.show()"
   ]
  },
  {
   "cell_type": "code",
   "execution_count": null,
   "id": "cb6d714f",
   "metadata": {},
   "outputs": [],
   "source": []
  }
 ],
 "metadata": {
  "kernelspec": {
   "display_name": "Python 3 (ipykernel)",
   "language": "python",
   "name": "python3"
  },
  "language_info": {
   "codemirror_mode": {
    "name": "ipython",
    "version": 3
   },
   "file_extension": ".py",
   "mimetype": "text/x-python",
   "name": "python",
   "nbconvert_exporter": "python",
   "pygments_lexer": "ipython3",
   "version": "3.8.10"
  }
 },
 "nbformat": 4,
 "nbformat_minor": 5
}
